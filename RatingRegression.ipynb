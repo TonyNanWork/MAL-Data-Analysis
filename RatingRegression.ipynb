{
 "cells": [
  {
   "cell_type": "code",
   "id": "97f57014",
   "metadata": {
    "ExecuteTime": {
     "end_time": "2024-08-02T07:35:39.005744Z",
     "start_time": "2024-08-02T07:35:37.445880Z"
    }
   },
   "source": [
    "import numpy as np\n",
    "import pandas as pd\n",
    "import matplotlib.pyplot as plt\n",
    "\n",
    "from sklearn.model_selection import train_test_split\n",
    "from sklearn.pipeline import Pipeline\n",
    "\n",
    "from sklearn.preprocessing import FunctionTransformer\n",
    "\n",
    "from sklearn.linear_model import LinearRegression\n",
    "\n",
    "import sys\n"
   ],
   "outputs": [],
   "execution_count": 1
  },
  {
   "cell_type": "code",
   "id": "bbdb3a3e",
   "metadata": {
    "ExecuteTime": {
     "end_time": "2024-08-02T07:35:39.085546Z",
     "start_time": "2024-08-02T07:35:39.006752Z"
    }
   },
   "source": [
    "data = pd.read_csv('Data/animelist_filt.csv')"
   ],
   "outputs": [],
   "execution_count": 2
  },
  {
   "cell_type": "code",
   "id": "d3f671c9",
   "metadata": {
    "ExecuteTime": {
     "end_time": "2024-08-02T07:35:39.092848Z",
     "start_time": "2024-08-02T07:35:39.086060Z"
    }
   },
   "source": [
    "pd.set_option('display.max_columns', None)\n",
    "\n",
    "genres = data[data.columns[pd.Series(data.columns).str.startswith('genre_')]]\n",
    "\n",
    "studios = data[data.columns[pd.Series(data.columns).str.startswith('studio_')]]\n",
    "\n",
    "sources = data[data.columns[pd.Series(data.columns).str.startswith('source_')]]\n",
    "\n",
    "y = data['score']"
   ],
   "outputs": [],
   "execution_count": 3
  },
  {
   "cell_type": "code",
   "id": "db625e88",
   "metadata": {
    "ExecuteTime": {
     "end_time": "2024-08-02T07:35:39.097404Z",
     "start_time": "2024-08-02T07:35:39.092848Z"
    }
   },
   "source": [
    "combined = pd.concat([genres, studios, sources,members], axis=1)\n",
    "combined = combined.dropna()\n",
    "\n",
    "y = combined['members']\n",
    "\n",
    "genres = combined[data.columns[pd.Series(data.columns).str.startswith('genre_')]]\n",
    "studios = combined[data.columns[pd.Series(data.columns).str.startswith('studio_')]]\n",
    "sources = combined[data.columns[pd.Series(data.columns).str.startswith('source_')]]\n",
    "X = pd.concat([genres, studios,sources], axis=1)\n"
   ],
   "outputs": [],
   "execution_count": 4
  },
  {
   "cell_type": "code",
   "id": "f27b3869",
   "metadata": {
    "ExecuteTime": {
     "end_time": "2024-08-02T07:35:39.104017Z",
     "start_time": "2024-08-02T07:35:39.098412Z"
    }
   },
   "source": [
    "X_train, X_val, y_train, y_val = train_test_split(X,y)\n"
   ],
   "outputs": [],
   "execution_count": 5
  },
  {
   "cell_type": "code",
   "id": "68da6024",
   "metadata": {
    "ExecuteTime": {
     "end_time": "2024-08-02T07:35:39.124806Z",
     "start_time": "2024-08-02T07:35:39.105022Z"
    }
   },
   "source": [
    "reg = LinearRegression().fit(X_train, y_train)\n"
   ],
   "outputs": [],
   "execution_count": 6
  },
  {
   "cell_type": "code",
   "id": "daaf8410",
   "metadata": {
    "ExecuteTime": {
     "end_time": "2024-08-02T07:35:39.131243Z",
     "start_time": "2024-08-02T07:35:39.125812Z"
    }
   },
   "source": [
    "print(reg.score(X_val,y_val))\n"
   ],
   "outputs": [
    {
     "name": "stdout",
     "output_type": "stream",
     "text": [
      "0.13542446177974488\n"
     ]
    }
   ],
   "execution_count": 7
  },
  {
   "cell_type": "code",
   "id": "eddb946a",
   "metadata": {
    "ExecuteTime": {
     "end_time": "2024-08-02T07:35:39.133696Z",
     "start_time": "2024-08-02T07:35:39.131243Z"
    }
   },
   "source": [],
   "outputs": [],
   "execution_count": 7
  }
 ],
 "metadata": {
  "kernelspec": {
   "display_name": "Python 3 (ipykernel)",
   "language": "python",
   "name": "python3"
  },
  "language_info": {
   "codemirror_mode": {
    "name": "ipython",
    "version": 3
   },
   "file_extension": ".py",
   "mimetype": "text/x-python",
   "name": "python",
   "nbconvert_exporter": "python",
   "pygments_lexer": "ipython3",
   "version": "3.9.7"
  }
 },
 "nbformat": 4,
 "nbformat_minor": 5
}
