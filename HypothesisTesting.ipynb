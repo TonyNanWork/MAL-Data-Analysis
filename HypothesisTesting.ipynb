{
 "cells": [
  {
   "cell_type": "markdown",
   "id": "f3e3d3266e7e61f9",
   "metadata": {},
   "source": [
    "# This notebook aims to test hypotheses of interest for deeper analysis"
   ]
  },
  {
   "cell_type": "code",
   "execution_count": 1,
   "id": "1bbafe48ca24f2f0",
   "metadata": {
    "ExecuteTime": {
     "end_time": "2024-08-02T08:04:00.035859Z",
     "start_time": "2024-08-02T08:04:00.031559Z"
    }
   },
   "outputs": [],
   "source": [
    "import numpy as np\n",
    "import pandas as pd\n",
    "import matplotlib.pyplot as plt\n",
    "import scipy.stats as stats\n",
    "from matplotlib import colors as mcolors\n",
    "import seaborn\n",
    "seaborn.set()"
   ]
  },
  {
   "cell_type": "markdown",
   "id": "eff37cae538d2b33",
   "metadata": {},
   "source": [
    "Reading data"
   ]
  },
  {
   "cell_type": "code",
   "execution_count": 2,
   "id": "a8feba7c159fe91a",
   "metadata": {
    "ExecuteTime": {
     "end_time": "2024-08-02T08:04:18.739433Z",
     "start_time": "2024-08-02T08:04:00.077577Z"
    }
   },
   "outputs": [],
   "source": [
    "users = pd.read_csv('Data/userlist_filt.csv')\n",
    "userlists = pd.read_csv('Data/userAnimeList_filt.csv')"
   ]
  },
  {
   "cell_type": "code",
   "execution_count": 3,
   "id": "b2ad82497a39cc88",
   "metadata": {
    "ExecuteTime": {
     "end_time": "2024-08-02T08:04:18.821500Z",
     "start_time": "2024-08-02T08:04:18.740438Z"
    }
   },
   "outputs": [],
   "source": [
    "animes = pd.read_csv('Data/animelist_filt.csv')"
   ]
  },
  {
   "cell_type": "markdown",
   "id": "fd252a2813388b4e",
   "metadata": {},
   "source": [
    "# The first hypothesis we are going to test: Do female users watch more romance shows?\n",
    "H0: mean(male) >= mean(female);\n",
    "H1: mean(male) < mean(female)"
   ]
  },
  {
   "cell_type": "code",
   "execution_count": 4,
   "id": "712e573acb15e810",
   "metadata": {
    "ExecuteTime": {
     "end_time": "2024-08-02T08:04:29.021649Z",
     "start_time": "2024-08-02T08:04:18.822507Z"
    }
   },
   "outputs": [],
   "source": [
    "userlists = pd.merge(\n",
    "    pd.merge(userlists,users[['username','gender','stats_episodes']], on='username',how='left'),\n",
    "    animes[['anime_id','genre_Romance']], on='anime_id',how='left'\n",
    ")\n",
    "ratings_by_gender = userlists.groupby(['username','gender']).agg(count=('username','count'))\n",
    "ratings_by_gender = ratings_by_gender.groupby('gender').agg(mean=('count','mean'))"
   ]
  },
  {
   "cell_type": "markdown",
   "id": "3698d517dcfe8330",
   "metadata": {},
   "source": [
    "Counting the amount of romance shows watched and adjusting by the mean"
   ]
  },
  {
   "cell_type": "code",
   "execution_count": 5,
   "id": "ab5d271d62d12184",
   "metadata": {
    "ExecuteTime": {
     "end_time": "2024-08-02T08:04:31.077084Z",
     "start_time": "2024-08-02T08:04:29.022655Z"
    }
   },
   "outputs": [],
   "source": [
    "counts = userlists.groupby(['username']).agg({'genre_Romance':'sum','stats_episodes': 'first','gender':'first'})\n",
    "counts = counts[counts['stats_episodes'] != 0]\n",
    "counts = pd.merge(counts, ratings_by_gender, on='gender')\n",
    "counts['Romance'] = counts['genre_Romance'] / counts['mean']"
   ]
  },
  {
   "cell_type": "markdown",
   "id": "eb5fc3180c789cd",
   "metadata": {},
   "source": [
    "Plotting"
   ]
  },
  {
   "cell_type": "code",
   "execution_count": 6,
   "id": "ce059bc3e8135ec2",
   "metadata": {
    "ExecuteTime": {
     "end_time": "2024-08-02T08:04:31.724212Z",
     "start_time": "2024-08-02T08:04:31.078089Z"
    }
   },
   "outputs": [
    {
     "data": {
      "image/png": "[encoded data removed]",
      "text/plain": [
       "<Figure size 1440x360 with 3 Axes>"
      ]
     },
     "metadata": {
      "needs_background": "light"
     },
     "output_type": "display_data"
    }
   ],
   "source": [
    "fig, (ax1,ax2,ax3) = plt.subplots(1,3,figsize=(20,5), sharey='row')\n",
    "ax1.hist(counts[counts['gender'] == 'Male'].Romance, bins=50,color='blue',edgecolor='black',)\n",
    "ax1.hist(counts[counts['gender'] == 'Female'].Romance, bins=50,color='red',edgecolor='black',)\n",
    "ax1.set_title(\"Male/Female counts for romance anime watched (adjusted by the mean count for respective gender)\")\n",
    "ax1.set_xlabel('Count')\n",
    "ax1.set_ylabel('Adjusted shows watched')\n",
    "\n",
    "counts['Romance_log'] = np.log(counts['Romance']+0.1)\n",
    "ax2.hist(counts[counts['gender'] == 'Male'].Romance_log, bins=50,color='blue',edgecolor='black',)\n",
    "ax2.hist(counts[counts['gender'] == 'Female'].Romance_log, bins=50,color='red',edgecolor='black',)\n",
    "ax2.set_title(\"Male/Female counts after log transformation\")\n",
    "ax2.set_xlabel('Count')\n",
    "\n",
    "counts['Romance_sqrt'] = np.sqrt(counts['Romance'])\n",
    "ax3.hist(counts[counts['gender'] == 'Male'].Romance_sqrt, bins=50,color='blue',edgecolor='black',)\n",
    "ax3.hist(counts[counts['gender'] == 'Female'].Romance_sqrt, bins=50,color='red',edgecolor='black',)\n",
    "ax3.set_title(\"Male/Female counts after sqrt transformation\")\n",
    "ax3.set_xlabel('Count')\n",
    "\n",
    "plt.tight_layout()\n",
    "plt.show()"
   ]
  },
  {
   "cell_type": "markdown",
   "id": "6b9daa21bbe23a96",
   "metadata": {},
   "source": [
    "As we can see, in order to test the hypothesis, we need to transform the data. Square root transformation seems to do well"
   ]
  },
  {
   "cell_type": "code",
   "execution_count": 7,
   "id": "71e7177122262b22",
   "metadata": {
    "ExecuteTime": {
     "end_time": "2024-08-02T08:04:31.754717Z",
     "start_time": "2024-08-02T08:04:31.725223Z"
    }
   },
   "outputs": [
    {
     "name": "stdout",
     "output_type": "stream",
     "text": [
      "T-test p-value: 2.151425036825301e-07\n",
      "T-statistic: -5.1865368700173615\n",
      "Mann-whitney P-value: 9.856001275620036e-06\n"
     ]
    }
   ],
   "source": [
    "statistic, p_value = stats.ttest_ind(counts[counts['gender'] == 'Male'].Romance_sqrt,counts[counts['gender'] == 'Female'].Romance_sqrt, equal_var=False)\n",
    "\n",
    "print(f'T-test p-value: {p_value}')\n",
    "print(f'T-statistic: {statistic}')\n",
    "u_statistic, p_value = stats.mannwhitneyu(counts[counts['gender'] == 'Male'].Romance_sqrt, counts[counts['gender'] == 'Female'].Romance_sqrt, alternative='two-sided')\n",
    "print(f'Mann-whitney P-value: {p_value}')"
   ]
  },
  {
   "cell_type": "markdown",
   "id": "e3a440746f59a1dc",
   "metadata": {},
   "source": [
    "With these results, we can conclude that there is a significant difference between the amount of romance shows watched by male and female users with the negative t-statistic indicating that female users have a higher mean"
   ]
  },
  {
   "cell_type": "markdown",
   "id": "99fa824e71c1f738",
   "metadata": {},
   "source": [
    "# The second hypothesis from the data exploration notebook: Is there a relationship between having zero mean rating and having no episodes watched?\n",
    "This could be the case for some users to intentionally disrupt ratings by creating throwaway accounts."
   ]
  },
  {
   "cell_type": "code",
   "execution_count": 8,
   "id": "a4d3942dc1f96548",
   "metadata": {
    "ExecuteTime": {
     "end_time": "2024-08-02T08:04:31.762619Z",
     "start_time": "2024-08-02T08:04:31.755722Z"
    }
   },
   "outputs": [],
   "source": [
    "zerolists = users[['username','stats_episodes','stats_mean_score']]\n",
    "zerolists = zerolists[zerolists['stats_mean_score'] == 0]\n",
    "zerolists_zero_episodes = zerolists[zerolists['stats_episodes'] == 0]"
   ]
  },
  {
   "cell_type": "code",
   "execution_count": 9,
   "id": "a5a51d89a28b3534",
   "metadata": {
    "ExecuteTime": {
     "end_time": "2024-08-02T08:04:31.769408Z",
     "start_time": "2024-08-02T08:04:31.763629Z"
    }
   },
   "outputs": [
    {
     "data": {
      "text/html": [
       "<div>\n",
       "<style scoped>\n",
       "    .dataframe tbody tr th:only-of-type {\n",
       "        vertical-align: middle;\n",
       "    }\n",
       "\n",
       "    .dataframe tbody tr th {\n",
       "        vertical-align: top;\n",
       "    }\n",
       "\n",
       "    .dataframe thead th {\n",
       "        text-align: right;\n",
       "    }\n",
       "</style>\n",
       "<table border=\"1\" class=\"dataframe\">\n",
       "  <thead>\n",
       "    <tr style=\"text-align: right;\">\n",
       "      <th></th>\n",
       "      <th>Zero Episodes</th>\n",
       "      <th>Non-Zero Episodes</th>\n",
       "    </tr>\n",
       "  </thead>\n",
       "  <tbody>\n",
       "    <tr>\n",
       "      <th>Zero Mean Score</th>\n",
       "      <td>1704</td>\n",
       "      <td>1530</td>\n",
       "    </tr>\n",
       "    <tr>\n",
       "      <th>Other</th>\n",
       "      <td>65050</td>\n",
       "      <td>65050</td>\n",
       "    </tr>\n",
       "  </tbody>\n",
       "</table>\n",
       "</div>"
      ],
      "text/plain": [
       "                 Zero Episodes  Non-Zero Episodes\n",
       "Zero Mean Score           1704               1530\n",
       "Other                    65050              65050"
      ]
     },
     "execution_count": 9,
     "metadata": {},
     "output_type": "execute_result"
    }
   ],
   "source": [
    "total_zero_mean = len(zerolists)\n",
    "zero_mean_zero_episodes = len(zerolists_zero_episodes)\n",
    "zero_mean_non_zero_episodes = total_zero_mean - zero_mean_zero_episodes\n",
    "\n",
    "contingency_table = pd.DataFrame({\n",
    "    'Zero Episodes': [zero_mean_zero_episodes, len(users) - total_zero_mean],\n",
    "    'Non-Zero Episodes': [zero_mean_non_zero_episodes, len(users) - len(zerolists)]\n",
    "}, index=['Zero Mean Score', 'Other'])\n",
    "\n",
    "contingency_table"
   ]
  },
  {
   "cell_type": "code",
   "execution_count": 10,
   "id": "1d374e06f70c005f",
   "metadata": {
    "ExecuteTime": {
     "end_time": "2024-08-02T08:04:31.774153Z",
     "start_time": "2024-08-02T08:04:31.770414Z"
    }
   },
   "outputs": [
    {
     "name": "stdout",
     "output_type": "stream",
     "text": [
      "Chi-squared Statistic: 9.02743780716443\n",
      "P-value: 0.002659569997732597\n"
     ]
    }
   ],
   "source": [
    "chi2, p_value, _, _ = stats.chi2_contingency(contingency_table)\n",
    "print(f'Chi-squared Statistic: {chi2}')\n",
    "print(f'P-value: {p_value}')"
   ]
  },
  {
   "cell_type": "markdown",
   "id": "9e081ffe6bd4baa4",
   "metadata": {},
   "source": [
    "The p-value indicates that there is a very significant relationship between having zero episodes watched and having zero mean rating, this fits into our initial guess about fake accounts. Further investigation seems impossible without having more data."
   ]
  },
  {
   "cell_type": "markdown",
   "id": "79a4c1d3d9d42bb4",
   "metadata": {},
   "source": [
    "# Third test: Is there a trend of ratings increasing for newer shows? "
   ]
  },
  {
   "cell_type": "code",
   "execution_count": 11,
   "id": "eb45776c73400d0a",
   "metadata": {
    "ExecuteTime": {
     "end_time": "2024-08-02T08:04:32.259622Z",
     "start_time": "2024-08-02T08:04:31.775160Z"
    }
   },
   "outputs": [
    {
     "data": {
      "image/png": "[encoded data removed]",
      "text/plain": [
       "<Figure size 720x360 with 1 Axes>"
      ]
     },
     "metadata": {
      "needs_background": "light"
     },
     "output_type": "display_data"
    }
   ],
   "source": [
    "animes['release_year'] = animes['premiered'].str.extract(r'(\\d{4})')\n",
    "animes['release_year'] = pd.to_numeric(animes['release_year'], errors='coerce')\n",
    "animes = animes.dropna(subset=['release_year'])\n",
    "animes = animes[animes['release_year'] != 2019]\n",
    "animes = animes[animes['score'] != 0]\n",
    "average_ratings = animes.groupby('release_year').agg(mean=('score','mean')).reset_index()\n",
    "plt.figure(figsize=(10, 5))\n",
    "seaborn.lineplot(data=average_ratings, x='release_year', y='mean',color='Red')\n",
    "plt.title('Average anime ratings by release year')\n",
    "plt.xlabel('Release year')\n",
    "plt.ylabel('Average rating')\n",
    "plt.grid(True)\n",
    "plt.show()"
   ]
  },
  {
   "cell_type": "code",
   "execution_count": 12,
   "id": "ab01d0b5afa0e9d7",
   "metadata": {
    "ExecuteTime": {
     "end_time": "2024-08-02T08:04:32.265167Z",
     "start_time": "2024-08-02T08:04:32.260629Z"
    }
   },
   "outputs": [
    {
     "name": "stdout",
     "output_type": "stream",
     "text": [
      "Correlation coefficient: 0.5907558971412697\n"
     ]
    }
   ],
   "source": [
    "correlation = average_ratings['release_year'].corr(average_ratings['mean'])\n",
    "print(f'Correlation coefficient: {correlation}')"
   ]
  },
  {
   "cell_type": "markdown",
   "id": "6f33dcc50f227c62",
   "metadata": {},
   "source": [
    "With this correlation coefficient, we can conclude that there is a moderate positive correlation between the release year and the rating shows usually get"
   ]
  },
  {
   "cell_type": "code",
   "execution_count": 43,
   "id": "4c79e1dc",
   "metadata": {},
   "outputs": [],
   "source": [
    "# Fourth Test: Is there a genuine difference in score user score based on what was the original source material?\n"
   ]
  },
  {
   "cell_type": "code",
   "execution_count": 44,
   "id": "d15e07e3",
   "metadata": {},
   "outputs": [],
   "source": [
    "\n",
    "sources = animes['source'].unique()\n",
    "grouped_ratings = [animes[animes['source'] == source]['score'] for source in sources]\n",
    "\n"
   ]
  },
  {
   "cell_type": "code",
   "execution_count": 45,
   "id": "61d5cccd",
   "metadata": {},
   "outputs": [],
   "source": [
    "f_stat, p_value = stats.f_oneway(*grouped_ratings)\n"
   ]
  },
  {
   "cell_type": "code",
   "execution_count": 46,
   "id": "08398fb4",
   "metadata": {},
   "outputs": [
    {
     "name": "stdout",
     "output_type": "stream",
     "text": [
      "F-statistic: 71.60862350570285\n",
      "P-value: 1.518480351330097e-193\n"
     ]
    }
   ],
   "source": [
    "print(f\"F-statistic: {f_stat}\")\n",
    "print(f\"P-value: {p_value}\")"
   ]
  },
  {
   "cell_type": "code",
   "execution_count": 47,
   "id": "e8b6d8cf",
   "metadata": {},
   "outputs": [],
   "source": [
    "from statsmodels.stats.multicomp import pairwise_tukeyhsd\n"
   ]
  },
  {
   "cell_type": "code",
   "execution_count": 48,
   "id": "24047b12",
   "metadata": {},
   "outputs": [],
   "source": [
    "tukey = pairwise_tukeyhsd(endog=animes['score'], groups=animes['source'], alpha=0.05)\n"
   ]
  },
  {
   "cell_type": "code",
   "execution_count": 49,
   "id": "09214dff",
   "metadata": {},
   "outputs": [
    {
     "name": "stdout",
     "output_type": "stream",
     "text": [
      "T-statistic: -268.55519315953967\n",
      "P-value: 1.518480351330097e-193\n"
     ]
    }
   ],
   "source": [
    "print(f\"T-statistic: {t_stat}\")\n",
    "print(f\"P-value: {p_value}\")"
   ]
  },
  {
   "cell_type": "markdown",
   "id": "720a1f5e",
   "metadata": {},
   "source": [
    "the p value shows there is a significant difference between some sources therefore we must do a posthoc analysis"
   ]
  },
  {
   "cell_type": "code",
   "execution_count": 50,
   "id": "8eee1966",
   "metadata": {},
   "outputs": [
    {
     "name": "stdout",
     "output_type": "stream",
     "text": [
      "       Multiple Comparison of Means - Tukey HSD, FWER=0.05        \n",
      "==================================================================\n",
      "    group1        group2    meandiff p-adj   lower   upper  reject\n",
      "------------------------------------------------------------------\n",
      " 4-koma manga          Book  -0.0194    1.0 -0.6035  0.5648  False\n",
      " 4-koma manga     Card game  -0.1055    1.0 -0.6555  0.4445  False\n",
      " 4-koma manga Digital manga  -1.4997 0.0018 -2.6938 -0.3057   True\n",
      " 4-koma manga          Game  -0.2012 0.7985 -0.5383  0.1358  False\n",
      " 4-koma manga   Light novel   0.5142    0.0   0.197  0.8313   True\n",
      " 4-koma manga         Manga   0.4198    0.0  0.1427   0.697   True\n",
      " 4-koma manga         Music  -0.4673 0.9235  -1.367  0.4325  False\n",
      " 4-koma manga         Novel   0.3328 0.1429 -0.0393  0.7049  False\n",
      " 4-koma manga      Original  -0.2907 0.0343  -0.572 -0.0095   True\n",
      " 4-koma manga         Other  -0.5491 0.0002 -0.9415 -0.1567   True\n",
      " 4-koma manga  Picture book  -1.2688    0.0 -1.7824 -0.7552   True\n",
      " 4-koma manga         Radio  -0.7864 0.8942 -2.2368   0.664  False\n",
      " 4-koma manga       Unknown  -0.5703    0.0 -0.8541 -0.2864   True\n",
      " 4-koma manga  Visual novel   0.0591    1.0 -0.2935  0.4117  False\n",
      " 4-koma manga     Web manga  -0.0437    1.0 -0.4997  0.4124  False\n",
      "         Book     Card game  -0.0861    1.0 -0.7957  0.6235  False\n",
      "         Book Digital manga  -1.4803  0.007 -2.7558 -0.2049   True\n",
      "         Book          Game  -0.1819 0.9993 -0.7428   0.379  False\n",
      "         Book   Light novel   0.5336 0.0677 -0.0156  1.0827  False\n",
      "         Book         Manga   0.4392 0.2376 -0.0878  0.9663  False\n",
      "         Book         Music  -0.4479 0.9795 -1.4532  0.5574  False\n",
      "         Book         Novel   0.3522 0.7831 -0.2305  0.9348  False\n",
      "         Book      Original  -0.2714 0.9308 -0.8006  0.2579  False\n",
      "         Book         Other  -0.5297 0.1498 -1.1255  0.0661  False\n",
      "         Book  Picture book  -1.2494    0.0 -1.9311 -0.5676   True\n",
      "         Book         Radio   -0.767 0.9385 -2.2851  0.7511  False\n",
      "         Book       Unknown  -0.5509 0.0326 -1.0815 -0.0202   True\n",
      "         Book  Visual novel   0.0785    1.0 -0.4919  0.6489  False\n",
      "         Book     Web manga  -0.0243    1.0 -0.6638  0.6152  False\n",
      "    Card game Digital manga  -1.3942 0.0143 -2.6544  -0.134   True\n",
      "    Card game          Game  -0.0957    1.0  -0.621  0.4295  False\n",
      "    Card game   Light novel   0.6197 0.0036   0.107  1.1324   True\n",
      "    Card game         Manga   0.5254 0.0212  0.0364  1.0143   True\n",
      "    Card game         Music  -0.3618 0.9972 -1.3476  0.6241  False\n",
      "    Card game         Novel   0.4383 0.3052 -0.1101  0.9867  False\n",
      "    Card game      Original  -0.1852 0.9962 -0.6765  0.3061  False\n",
      "    Card game         Other  -0.4435 0.3281 -1.0059  0.1188  False\n",
      "    Card game  Picture book  -1.1632    0.0  -1.816 -0.5105   True\n",
      "    Card game         Radio  -0.6809 0.9764 -2.1861  0.8244  False\n",
      "    Card game       Unknown  -0.4647 0.0904 -0.9575  0.0281  False\n",
      "    Card game  Visual novel   0.1646 0.9996 -0.3708     0.7  False\n",
      "    Card game     Web manga   0.0619    1.0 -0.5466  0.6703  False\n",
      "Digital manga          Game   1.2985 0.0159  0.1156  2.4813   True\n",
      "Digital manga   Light novel   2.0139    0.0  0.8366  3.1912   True\n",
      "Digital manga         Manga   1.9196    0.0  0.7524  3.0867   True\n",
      "Digital manga         Music   1.0324 0.5131  -0.415  2.4799  False\n",
      "Digital manga         Novel   1.8325    0.0  0.6392  3.0258   True\n",
      "Digital manga      Original    1.209 0.0338  0.0408  2.3772   True\n",
      "Digital manga         Other   0.9507 0.3201 -0.2491  2.1504  False\n",
      "Digital manga  Picture book    0.231    1.0 -1.0138  1.4757  False\n",
      "Digital manga         Radio   0.7133 0.9949 -1.1276  2.5543  False\n",
      "Digital manga       Unknown   0.9295 0.3138 -0.2393  2.0983  False\n",
      "Digital manga  Visual novel   1.5588 0.0008  0.3714  2.7462   True\n",
      "Digital manga     Web manga    1.456 0.0046   0.234  2.6781   True\n",
      "         Game   Light novel   0.7154    0.0  0.4435  0.9874   True\n",
      "         Game         Manga   0.6211    0.0  0.3971  0.8451   True\n",
      "         Game         Music   -0.266 0.9997 -1.1509  0.6188  False\n",
      "         Game         Novel    0.534    0.0  0.1996  0.8685   True\n",
      "         Game      Original  -0.0895 0.9945 -0.3186  0.1396  False\n",
      "         Game         Other  -0.3478 0.0655 -0.7047   0.009  False\n",
      "         Game  Picture book  -1.0675    0.0 -1.5545 -0.5805   True\n",
      "         Game         Radio  -0.5851 0.9917 -2.0263   0.856  False\n",
      "         Game       Unknown   -0.369    0.0 -0.6013 -0.1367   True\n",
      "         Game  Visual novel   0.2603 0.2386 -0.0523  0.5729  False\n",
      "         Game     Web manga   0.1576 0.9969 -0.2683  0.5834  False\n",
      "  Light novel         Manga  -0.0943 0.9526 -0.2871  0.0984  False\n",
      "  Light novel         Music  -0.9815 0.0122 -1.8589  -0.104   True\n",
      "  Light novel         Novel  -0.1814 0.8374 -0.4958  0.1329  False\n",
      "  Light novel      Original  -0.8049    0.0 -1.0036 -0.6063   True\n",
      "  Light novel         Other  -1.0632    0.0 -1.4014 -0.7251   True\n",
      "  Light novel  Picture book  -1.7829    0.0 -2.2564 -1.3095   True\n",
      "  Light novel         Radio  -1.3006 0.1294 -2.7372  0.1361  False\n",
      "  Light novel       Unknown  -1.0844    0.0 -1.2868 -0.8821   True\n",
      "  Light novel  Visual novel  -0.4551    0.0 -0.7461 -0.1641   True\n",
      "  Light novel     Web manga  -0.5578 0.0004 -0.9681 -0.1476   True\n",
      "        Manga         Music  -0.8871  0.037 -1.7509 -0.0234   True\n",
      "        Manga         Novel  -0.0871 0.9995  -0.361  0.1869  False\n",
      "        Manga      Original  -0.7106    0.0 -0.8358 -0.5854   True\n",
      "        Manga         Other  -0.9689    0.0 -1.2698  -0.668   True\n",
      "        Manga  Picture book  -1.6886    0.0 -2.1362  -1.241   True\n",
      "        Manga         Radio  -1.2062 0.2177 -2.6346  0.2221  False\n",
      "        Manga       Unknown  -0.9901    0.0 -1.1211 -0.8591   True\n",
      "        Manga  Visual novel  -0.3608 0.0001 -0.6076  -0.114   True\n",
      "        Manga     Web manga  -0.4635 0.0031 -0.8437 -0.0833   True\n",
      "        Music         Novel   0.8001 0.1483 -0.0987  1.6988  False\n",
      "        Music      Original   0.1766    1.0 -0.6886  1.0417  False\n",
      "        Music         Other  -0.0818    1.0 -0.9891  0.8256  False\n",
      "        Music  Picture book  -0.8015 0.2443 -1.7674  0.1645  False\n",
      "        Music         Radio  -0.3191    1.0 -1.9843  1.3461  False\n",
      "        Music       Unknown   -0.103    1.0 -0.9689   0.763  False\n",
      "        Music  Visual novel   0.5264 0.8111 -0.3645  1.4173  False\n",
      "        Music     Web manga   0.4236 0.9764  -0.513  1.3603  False\n",
      "        Novel      Original  -0.6235    0.0 -0.9016 -0.3454   True\n",
      "        Novel         Other  -0.8818    0.0  -1.272 -0.4917   True\n",
      "        Novel  Picture book  -1.6015    0.0 -2.1134 -1.0897   True\n",
      "        Novel         Radio  -1.1192 0.3663 -2.5689  0.3306  False\n",
      "        Novel       Unknown   -0.903    0.0 -1.1838 -0.6223   True\n",
      "        Novel  Visual novel  -0.2737 0.3438 -0.6238  0.0764  False\n",
      "        Novel     Web manga  -0.3764 0.2456 -0.8306  0.0777  False\n",
      "     Original         Other  -0.2583 0.2121  -0.563  0.0464  False\n",
      "     Original  Picture book   -0.978    0.0 -1.4282 -0.5278   True\n",
      "     Original         Radio  -0.4956 0.9985 -1.9248  0.9335  False\n",
      "     Original       Unknown  -0.2795    0.0  -0.419   -0.14   True\n",
      "     Original  Visual novel   0.3498 0.0002  0.0984  0.6013   True\n",
      "     Original     Web manga   0.2471   0.69 -0.1362  0.6303  False\n",
      "        Other  Picture book  -0.7197 0.0003 -1.2465 -0.1929   True\n",
      "        Other         Radio  -0.2373    1.0 -1.6924  1.2178  False\n",
      "        Other       Unknown  -0.0212    1.0 -0.3283  0.2859  False\n",
      "        Other  Visual novel   0.6081    0.0  0.2366  0.9797   True\n",
      "        Other     Web manga   0.5054 0.0215  0.0345  0.9763   True\n",
      " Picture book         Radio   0.4824 0.9993   -1.01  1.9747  False\n",
      " Picture book       Unknown   0.6985    0.0  0.2467  1.1503   True\n",
      " Picture book  Visual novel   1.3278    0.0    0.83  1.8257   True\n",
      " Picture book     Web manga   1.2251    0.0  0.6493  1.8009   True\n",
      "        Radio       Unknown   0.2161    1.0 -1.2135  1.6458  False\n",
      "        Radio  Visual novel   0.8455 0.8222 -0.5994  2.2903  False\n",
      "        Radio     Web manga   0.7427 0.9396 -0.7308  2.2163  False\n",
      "      Unknown  Visual novel   0.6293    0.0   0.375  0.8837   True\n",
      "      Unknown     Web manga   0.5266 0.0003  0.1414  0.9117   True\n",
      " Visual novel     Web manga  -0.1028    1.0  -0.541  0.3355  False\n",
      "------------------------------------------------------------------\n"
     ]
    }
   ],
   "source": [
    "print(tukey)\n"
   ]
  },
  {
   "cell_type": "code",
   "execution_count": 51,
   "id": "5d1d9bcb",
   "metadata": {
    "scrolled": true
   },
   "outputs": [
    {
     "data": {
      "image/png": "[encoded data removed]",
      "text/plain": [
       "<Figure size 720x432 with 1 Axes>"
      ]
     },
     "metadata": {
      "needs_background": "light"
     },
     "output_type": "display_data"
    }
   ],
   "source": [
    "tukey.plot_simultaneous()\n",
    "plt.xlabel('Mean Rating Difference')\n",
    "plt.ylabel('Source')\n",
    "plt.title('Tukey HSD Test Results')\n",
    "plt.show()"
   ]
  },
  {
   "cell_type": "markdown",
   "id": "d17730e6",
   "metadata": {},
   "source": [
    "From these results the original source material has a clear impact on the shows overall user score.\n",
    "While there is not enough evidence to suggest there is a differnce between light novels, novels and manga, there is a clear difference between them and things like card games, originals and visual novels.\n"
   ]
  },
  {
   "cell_type": "code",
   "execution_count": null,
   "id": "9e1b5e58",
   "metadata": {},
   "outputs": [],
   "source": []
  }
 ],
 "metadata": {
  "kernelspec": {
   "display_name": "Python 3 (ipykernel)",
   "language": "python",
   "name": "python3"
  },
  "language_info": {
   "codemirror_mode": {
    "name": "ipython",
    "version": 3
   },
   "file_extension": ".py",
   "mimetype": "text/x-python",
   "name": "python",
   "nbconvert_exporter": "python",
   "pygments_lexer": "ipython3",
   "version": "3.9.7"
  }
 },
 "nbformat": 4,
 "nbformat_minor": 5
}
